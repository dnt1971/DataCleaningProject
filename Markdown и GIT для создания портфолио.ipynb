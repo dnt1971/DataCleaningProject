{
 "cells": [
  {
   "cell_type": "markdown",
   "id": "bf1b7642",
   "metadata": {},
   "source": [
    "Настройка параметров Git\n",
    "\n",
    "Git — довольно гибкая система, и в ней есть множество настроек. Но мы начнём с обязательных.\n",
    "\n",
    "Для начала установим имя пользователя и адрес электронной почты. Эти данные будут отображены в каждом изменении, которое вы вносите, и другие пользователи смогут понять, кто автор тех или иных изменений.\n",
    "\n",
    "В терминале (для Windows — в командной строке) запустите по очереди команды ниже. Можно сделать это прямо в терминале VS Code. Вместо Name введите свой логин в кавычках, а вместо email@example.ru — свою почту."
   ]
  },
  {
   "cell_type": "code",
   "execution_count": null,
   "id": "2e100b3e",
   "metadata": {},
   "outputs": [],
   "source": [
    "git config --global user.name \"Name\"\n",
    "git config --global user.email email@example.ru"
   ]
  },
  {
   "cell_type": "markdown",
   "id": "d490d237",
   "metadata": {},
   "source": [
    "Обратите внимание, что в этих командах есть опция --global. Это значит, что вам достаточно будет один раз ввести эти данные, и они будут сохранены для всех проектов. Если вы захотите поменять информацию, то нужно будет ввести ту же команду, только без  --global."
   ]
  },
  {
   "cell_type": "markdown",
   "id": "a06dbe89",
   "metadata": {},
   "source": [
    "https://apps.skillfactory.ru/learning/course/course-v1:SkillFactory+DSPRMGU+2023_FEB/block-v1:SkillFactory+DSPRMGU+2023_FEB+type@sequential+block@d08e512bf8264286966cb9ef71bd16d4/block-v1:SkillFactory+DSPRMGU+2023_FEB+type@vertical+block@3091cda791254a738bcce75892b876a5"
   ]
  },
  {
   "cell_type": "code",
   "execution_count": null,
   "id": "891f740a",
   "metadata": {},
   "outputs": [],
   "source": [
    "# Примечание. Альтернативная команда для инициализации репозитория в терминале:\n",
    "git init\n",
    "#или\n",
    "\n",
    "git add -A\n",
    "\n",
    "# Примечание. Команда Git для фиксации версий файлов:\n",
    "git commit -m \"Initial commit\"\n",
    "\n",
    "#Примечание. Альтернативная команда Git для добавления удалённого репозитория в терминале:\n",
    "\n",
    "git remote add <удалённое_имя> https://github.com/<имя>/<имя_репозитория>\n",
    "#Например:\n",
    "\n",
    "git remote add SkillfactoryDS https://github.com/SkilfactoryDS/sf_data_science\n",
    "\n",
    "#Примечание. Команда для отправки проект на GitHub в терминале:\n",
    "\n",
    "git push <удалённое_имя>\n",
    "#На странице репозитория на GitHub у вас появится две ветки:\n",
    "\n",
    "main — ветка, созданная GitHub автоматически (здесь хранятся файлы .gitignore и README.md);\n",
    "master — ветка, созданная системой контроля версий (мы работали в ней)."
   ]
  },
  {
   "cell_type": "markdown",
   "id": "9798604e",
   "metadata": {},
   "source": [
    "Порядок команд будет следующим:\n",
    "\n",
    "1\n",
    "После сделанного push обновляем наш локальный репозиторий, подгрузив данные с удалённого. Для этого используется команда pull:\n",
    "\n",
    "git pull\n",
    "2\n",
    "После обновления нам станет доступна удалённая ветка main. Переходим в неё. Для этого используем команду checkout:\n",
    "\n",
    "git checkout <удалённое_имя>/main\n",
    "Например:\n",
    "\n",
    "git checkout SkillfactoryDS/main\n",
    "3\n",
    "После смены ветки появится локальная ветка main. Теперь можно объединить две локальные ветки master и main. Ветку master «сливаем» с веткой main. Для этого используем следующую команду:\n",
    "\n",
    "git merge master main --allow-unrelated-histories\n",
    "4\n",
    "Осталось только сделать push наших изменений:\n",
    "\n",
    "git push <удалённое_имя>\n",
    "Например:\n",
    "\n",
    "git push SkillfactoryDS\n",
    "Ещё один альтернативный способ синхронизировать две ветки на случай, если предыдущие способы не помогли:\n",
    "\n",
    "1\n",
    "Переименовать ветку master в ветку main. Для этого из ветки master запускаем команду в терминале:\n",
    "\n",
    "git branch -m main\n",
    "2\n",
    "Подтянуть (pull) текущие файлы (README.md и .gitignore) из удалённой ветви main:\n",
    "\n",
    "git pull <удалённое_имя> main --allow-unrelated-histories\n",
    "Например:\n",
    "\n",
    "git pull SkillfactoryDS main --allow-unrelated-histories\n",
    "3\n",
    "Файлы из удалённого репозитория с ветки main подтянулись в локальную ветку. Теперь остаётся только отправить файлы с кодом на удалённый репозиторий:\n",
    "\n",
    "git push <удалённое_имя>\n",
    "Например:\n",
    "\n",
    "git push SkillfactoryDS"
   ]
  }
 ],
 "metadata": {
  "language_info": {
   "name": "python"
  }
 },
 "nbformat": 4,
 "nbformat_minor": 5
}
